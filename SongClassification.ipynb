{
 "cells": [
  {
   "cell_type": "markdown",
   "id": "53339452",
   "metadata": {},
   "source": [
    "Over the past few years, streaming services with huge catalogs have become the primary means through which most people listen to their favorite music. But at the same time, the sheer amount of music on offer can mean users might be a bit overwhelmed when trying to look for newer music that suits their tastes.\n",
    "\n",
    "For this reason, streaming services have looked into means of categorizing music to allow for personalized recommendations. One method involves direct analysis of the raw audio information in a given song, scoring the raw data on a variety of metrics. Today, we'll be examining data compiled by a research group known as The Echo Nest. Our goal is to look through this dataset and classify songs as being either 'Hip-Hop' or 'Rock' "
   ]
  },
  {
   "cell_type": "code",
   "execution_count": 5,
   "id": "cfd291fa",
   "metadata": {},
   "outputs": [],
   "source": [
    "import pandas as pd\n",
    "import numpy as np\n",
    "import matplotlib.pyplot as plt\n",
    "import seaborn as sns\n",
    "%matplotlib inline"
   ]
  },
  {
   "cell_type": "markdown",
   "id": "80eafe93",
   "metadata": {},
   "source": [
    "## 1. Preparing our dataset"
   ]
  },
  {
   "cell_type": "code",
   "execution_count": 6,
   "id": "fa09f6de",
   "metadata": {},
   "outputs": [
    {
     "data": {
      "text/html": [
       "<div>\n",
       "<style scoped>\n",
       "    .dataframe tbody tr th:only-of-type {\n",
       "        vertical-align: middle;\n",
       "    }\n",
       "\n",
       "    .dataframe tbody tr th {\n",
       "        vertical-align: top;\n",
       "    }\n",
       "\n",
       "    .dataframe thead th {\n",
       "        text-align: right;\n",
       "    }\n",
       "</style>\n",
       "<table border=\"1\" class=\"dataframe\">\n",
       "  <thead>\n",
       "    <tr style=\"text-align: right;\">\n",
       "      <th></th>\n",
       "      <th>track_id</th>\n",
       "      <th>bit_rate</th>\n",
       "      <th>comments</th>\n",
       "      <th>composer</th>\n",
       "      <th>date_created</th>\n",
       "      <th>date_recorded</th>\n",
       "      <th>duration</th>\n",
       "      <th>favorites</th>\n",
       "      <th>genre_top</th>\n",
       "      <th>genres</th>\n",
       "      <th>...</th>\n",
       "      <th>information</th>\n",
       "      <th>interest</th>\n",
       "      <th>language_code</th>\n",
       "      <th>license</th>\n",
       "      <th>listens</th>\n",
       "      <th>lyricist</th>\n",
       "      <th>number</th>\n",
       "      <th>publisher</th>\n",
       "      <th>tags</th>\n",
       "      <th>title</th>\n",
       "    </tr>\n",
       "  </thead>\n",
       "  <tbody>\n",
       "    <tr>\n",
       "      <th>0</th>\n",
       "      <td>135</td>\n",
       "      <td>256000</td>\n",
       "      <td>1</td>\n",
       "      <td>NaN</td>\n",
       "      <td>2008-11-26 01:43:26</td>\n",
       "      <td>2008-11-26 00:00:00</td>\n",
       "      <td>837</td>\n",
       "      <td>0</td>\n",
       "      <td>Rock</td>\n",
       "      <td>[45, 58]</td>\n",
       "      <td>...</td>\n",
       "      <td>NaN</td>\n",
       "      <td>2484</td>\n",
       "      <td>en</td>\n",
       "      <td>Attribution-NonCommercial-ShareAlike 3.0 Inter...</td>\n",
       "      <td>1832</td>\n",
       "      <td>NaN</td>\n",
       "      <td>0</td>\n",
       "      <td>NaN</td>\n",
       "      <td>[]</td>\n",
       "      <td>Father's Day</td>\n",
       "    </tr>\n",
       "    <tr>\n",
       "      <th>1</th>\n",
       "      <td>136</td>\n",
       "      <td>256000</td>\n",
       "      <td>1</td>\n",
       "      <td>NaN</td>\n",
       "      <td>2008-11-26 01:43:35</td>\n",
       "      <td>2008-11-26 00:00:00</td>\n",
       "      <td>509</td>\n",
       "      <td>0</td>\n",
       "      <td>Rock</td>\n",
       "      <td>[45, 58]</td>\n",
       "      <td>...</td>\n",
       "      <td>NaN</td>\n",
       "      <td>1948</td>\n",
       "      <td>en</td>\n",
       "      <td>Attribution-NonCommercial-ShareAlike 3.0 Inter...</td>\n",
       "      <td>1498</td>\n",
       "      <td>NaN</td>\n",
       "      <td>0</td>\n",
       "      <td>NaN</td>\n",
       "      <td>[]</td>\n",
       "      <td>Peel Back The Mountain Sky</td>\n",
       "    </tr>\n",
       "    <tr>\n",
       "      <th>2</th>\n",
       "      <td>151</td>\n",
       "      <td>192000</td>\n",
       "      <td>0</td>\n",
       "      <td>NaN</td>\n",
       "      <td>2008-11-26 01:44:55</td>\n",
       "      <td>NaN</td>\n",
       "      <td>192</td>\n",
       "      <td>0</td>\n",
       "      <td>Rock</td>\n",
       "      <td>[25]</td>\n",
       "      <td>...</td>\n",
       "      <td>NaN</td>\n",
       "      <td>701</td>\n",
       "      <td>en</td>\n",
       "      <td>Attribution-NonCommercial-ShareAlike 3.0 Inter...</td>\n",
       "      <td>148</td>\n",
       "      <td>NaN</td>\n",
       "      <td>4</td>\n",
       "      <td>NaN</td>\n",
       "      <td>[]</td>\n",
       "      <td>Untitled 04</td>\n",
       "    </tr>\n",
       "    <tr>\n",
       "      <th>3</th>\n",
       "      <td>152</td>\n",
       "      <td>192000</td>\n",
       "      <td>0</td>\n",
       "      <td>NaN</td>\n",
       "      <td>2008-11-26 01:44:58</td>\n",
       "      <td>NaN</td>\n",
       "      <td>193</td>\n",
       "      <td>0</td>\n",
       "      <td>Rock</td>\n",
       "      <td>[25]</td>\n",
       "      <td>...</td>\n",
       "      <td>NaN</td>\n",
       "      <td>637</td>\n",
       "      <td>en</td>\n",
       "      <td>Attribution-NonCommercial-ShareAlike 3.0 Inter...</td>\n",
       "      <td>98</td>\n",
       "      <td>NaN</td>\n",
       "      <td>11</td>\n",
       "      <td>NaN</td>\n",
       "      <td>[]</td>\n",
       "      <td>Untitled 11</td>\n",
       "    </tr>\n",
       "    <tr>\n",
       "      <th>4</th>\n",
       "      <td>153</td>\n",
       "      <td>256000</td>\n",
       "      <td>0</td>\n",
       "      <td>Arc and Sender</td>\n",
       "      <td>2008-11-26 01:45:00</td>\n",
       "      <td>2008-11-26 00:00:00</td>\n",
       "      <td>405</td>\n",
       "      <td>5</td>\n",
       "      <td>Rock</td>\n",
       "      <td>[26]</td>\n",
       "      <td>...</td>\n",
       "      <td>NaN</td>\n",
       "      <td>354</td>\n",
       "      <td>en</td>\n",
       "      <td>Attribution-NonCommercial-NoDerivatives (aka M...</td>\n",
       "      <td>424</td>\n",
       "      <td>NaN</td>\n",
       "      <td>2</td>\n",
       "      <td>NaN</td>\n",
       "      <td>[]</td>\n",
       "      <td>Hundred-Year Flood</td>\n",
       "    </tr>\n",
       "  </tbody>\n",
       "</table>\n",
       "<p>5 rows × 21 columns</p>\n",
       "</div>"
      ],
      "text/plain": [
       "   track_id  bit_rate  comments        composer         date_created  \\\n",
       "0       135    256000         1             NaN  2008-11-26 01:43:26   \n",
       "1       136    256000         1             NaN  2008-11-26 01:43:35   \n",
       "2       151    192000         0             NaN  2008-11-26 01:44:55   \n",
       "3       152    192000         0             NaN  2008-11-26 01:44:58   \n",
       "4       153    256000         0  Arc and Sender  2008-11-26 01:45:00   \n",
       "\n",
       "         date_recorded  duration  favorites genre_top    genres  ...  \\\n",
       "0  2008-11-26 00:00:00       837          0      Rock  [45, 58]  ...   \n",
       "1  2008-11-26 00:00:00       509          0      Rock  [45, 58]  ...   \n",
       "2                  NaN       192          0      Rock      [25]  ...   \n",
       "3                  NaN       193          0      Rock      [25]  ...   \n",
       "4  2008-11-26 00:00:00       405          5      Rock      [26]  ...   \n",
       "\n",
       "  information interest  language_code  \\\n",
       "0         NaN     2484             en   \n",
       "1         NaN     1948             en   \n",
       "2         NaN      701             en   \n",
       "3         NaN      637             en   \n",
       "4         NaN      354             en   \n",
       "\n",
       "                                             license listens  lyricist number  \\\n",
       "0  Attribution-NonCommercial-ShareAlike 3.0 Inter...    1832       NaN      0   \n",
       "1  Attribution-NonCommercial-ShareAlike 3.0 Inter...    1498       NaN      0   \n",
       "2  Attribution-NonCommercial-ShareAlike 3.0 Inter...     148       NaN      4   \n",
       "3  Attribution-NonCommercial-ShareAlike 3.0 Inter...      98       NaN     11   \n",
       "4  Attribution-NonCommercial-NoDerivatives (aka M...     424       NaN      2   \n",
       "\n",
       "   publisher tags                       title  \n",
       "0        NaN   []                Father's Day  \n",
       "1        NaN   []  Peel Back The Mountain Sky  \n",
       "2        NaN   []                 Untitled 04  \n",
       "3        NaN   []                 Untitled 11  \n",
       "4        NaN   []          Hundred-Year Flood  \n",
       "\n",
       "[5 rows x 21 columns]"
      ]
     },
     "execution_count": 6,
     "metadata": {},
     "output_type": "execute_result"
    }
   ],
   "source": [
    "import pandas as pd\n",
    "\n",
    "# Read in track metadata with genre labels\n",
    "tracks = pd.read_csv(\"datasets/fma-rock-vs-hiphop.csv\")\n",
    "\n",
    "# Read in track metrics with the features\n",
    "echonest_metrics = pd.read_json(\"datasets/echonest-metrics.json\", precise_float=True)\n",
    "tracks.head()"
   ]
  },
  {
   "cell_type": "code",
   "execution_count": 7,
   "id": "1a1f66ed",
   "metadata": {},
   "outputs": [
    {
     "name": "stdout",
     "output_type": "stream",
     "text": [
      "<class 'pandas.core.frame.DataFrame'>\n",
      "RangeIndex: 4802 entries, 0 to 4801\n",
      "Data columns (total 10 columns):\n",
      " #   Column            Non-Null Count  Dtype  \n",
      "---  ------            --------------  -----  \n",
      " 0   track_id          4802 non-null   int64  \n",
      " 1   acousticness      4802 non-null   float64\n",
      " 2   danceability      4802 non-null   float64\n",
      " 3   energy            4802 non-null   float64\n",
      " 4   instrumentalness  4802 non-null   float64\n",
      " 5   liveness          4802 non-null   float64\n",
      " 6   speechiness       4802 non-null   float64\n",
      " 7   tempo             4802 non-null   float64\n",
      " 8   valence           4802 non-null   float64\n",
      " 9   genre_top         4802 non-null   object \n",
      "dtypes: float64(8), int64(1), object(1)\n",
      "memory usage: 375.3+ KB\n"
     ]
    }
   ],
   "source": [
    "# Merge the relevant columns of tracks and echonest_metrics\n",
    "echo_tracks = echonest_metrics.merge(tracks[['track_id', 'genre_top']], on='track_id')\n",
    "# Inspect the resultant dataframe\n",
    "echo_tracks.info()"
   ]
  },
  {
   "cell_type": "code",
   "execution_count": 8,
   "id": "7e80628e",
   "metadata": {},
   "outputs": [
    {
     "name": "stdout",
     "output_type": "stream",
     "text": [
      "genre_top\n",
      "Rock       3892\n",
      "Hip-Hop     910\n",
      "Name: count, dtype: int64\n"
     ]
    }
   ],
   "source": [
    "nan_hiphop_counts = echo_tracks[\"genre_top\"].value_counts(dropna=False)\n",
    "\n",
    "# Display the counts\n",
    "print(nan_hiphop_counts)"
   ]
  },
  {
   "cell_type": "markdown",
   "id": "501e2679",
   "metadata": {},
   "source": [
    "## 2. Pairwise relationships between continuous variables\n",
    "<p>We typically want to avoid using variables that have strong correlations with each other -- hence avoiding feature redundancy -- for a few reasons:</p>\n",
    "<ul>\n",
    "<li>To keep the model simple and improve interpretability (with many features, we run the risk of overfitting).</li>\n",
    "<li>When our datasets are very large, using fewer features can drastically speed up our computation time.</li>\n",
    "</ul>\n",
    "<p>To get a sense of whether there are any strongly correlated features in our data, we will create a correlation matrix"
   ]
  },
  {
   "cell_type": "code",
   "execution_count": 9,
   "id": "a552bc46",
   "metadata": {},
   "outputs": [
    {
     "data": {
      "text/html": [
       "<style type=\"text/css\">\n",
       "#T_788a8_row0_col0, #T_788a8_row1_col1, #T_788a8_row2_col2, #T_788a8_row3_col3, #T_788a8_row4_col4, #T_788a8_row5_col5, #T_788a8_row6_col6, #T_788a8_row7_col7, #T_788a8_row8_col8 {\n",
       "  background-color: #023858;\n",
       "  color: #f1f1f1;\n",
       "}\n",
       "#T_788a8_row0_col1, #T_788a8_row1_col0, #T_788a8_row1_col3, #T_788a8_row2_col5, #T_788a8_row2_col7, #T_788a8_row4_col2, #T_788a8_row4_col6, #T_788a8_row4_col8, #T_788a8_row6_col4 {\n",
       "  background-color: #fff7fb;\n",
       "  color: #000000;\n",
       "}\n",
       "#T_788a8_row0_col2 {\n",
       "  background-color: #d2d2e7;\n",
       "  color: #000000;\n",
       "}\n",
       "#T_788a8_row0_col3 {\n",
       "  background-color: #b5c4df;\n",
       "  color: #000000;\n",
       "}\n",
       "#T_788a8_row0_col4 {\n",
       "  background-color: #f5eef6;\n",
       "  color: #000000;\n",
       "}\n",
       "#T_788a8_row0_col5 {\n",
       "  background-color: #e9e5f1;\n",
       "  color: #000000;\n",
       "}\n",
       "#T_788a8_row0_col6, #T_788a8_row8_col3 {\n",
       "  background-color: #d1d2e6;\n",
       "  color: #000000;\n",
       "}\n",
       "#T_788a8_row0_col7, #T_788a8_row1_col7 {\n",
       "  background-color: #e1dfed;\n",
       "  color: #000000;\n",
       "}\n",
       "#T_788a8_row0_col8, #T_788a8_row3_col6 {\n",
       "  background-color: #dedcec;\n",
       "  color: #000000;\n",
       "}\n",
       "#T_788a8_row1_col2 {\n",
       "  background-color: #e0dded;\n",
       "  color: #000000;\n",
       "}\n",
       "#T_788a8_row1_col4, #T_788a8_row4_col1 {\n",
       "  background-color: #97b7d7;\n",
       "  color: #000000;\n",
       "}\n",
       "#T_788a8_row1_col5, #T_788a8_row2_col4 {\n",
       "  background-color: #f3edf5;\n",
       "  color: #000000;\n",
       "}\n",
       "#T_788a8_row1_col6, #T_788a8_row6_col1 {\n",
       "  background-color: #b8c6e0;\n",
       "  color: #000000;\n",
       "}\n",
       "#T_788a8_row1_col8 {\n",
       "  background-color: #e2dfee;\n",
       "  color: #000000;\n",
       "}\n",
       "#T_788a8_row2_col0, #T_788a8_row5_col0, #T_788a8_row5_col3 {\n",
       "  background-color: #bdc8e1;\n",
       "  color: #000000;\n",
       "}\n",
       "#T_788a8_row2_col1, #T_788a8_row6_col0, #T_788a8_row7_col0, #T_788a8_row7_col1 {\n",
       "  background-color: #d0d1e6;\n",
       "  color: #000000;\n",
       "}\n",
       "#T_788a8_row2_col3 {\n",
       "  background-color: #fbf3f9;\n",
       "  color: #000000;\n",
       "}\n",
       "#T_788a8_row2_col6 {\n",
       "  background-color: #80aed2;\n",
       "  color: #f1f1f1;\n",
       "}\n",
       "#T_788a8_row2_col8 {\n",
       "  background-color: #529bc7;\n",
       "  color: #f1f1f1;\n",
       "}\n",
       "#T_788a8_row3_col0, #T_788a8_row7_col3 {\n",
       "  background-color: #a7bddb;\n",
       "  color: #000000;\n",
       "}\n",
       "#T_788a8_row3_col1 {\n",
       "  background-color: #f5eff6;\n",
       "  color: #000000;\n",
       "}\n",
       "#T_788a8_row3_col2, #T_788a8_row7_col2 {\n",
       "  background-color: #fef6fa;\n",
       "  color: #000000;\n",
       "}\n",
       "#T_788a8_row3_col4 {\n",
       "  background-color: #c4cbe3;\n",
       "  color: #000000;\n",
       "}\n",
       "#T_788a8_row3_col5, #T_788a8_row5_col7 {\n",
       "  background-color: #dcdaeb;\n",
       "  color: #000000;\n",
       "}\n",
       "#T_788a8_row3_col7 {\n",
       "  background-color: #adc1dd;\n",
       "  color: #000000;\n",
       "}\n",
       "#T_788a8_row3_col8, #T_788a8_row4_col7 {\n",
       "  background-color: #d9d8ea;\n",
       "  color: #000000;\n",
       "}\n",
       "#T_788a8_row4_col0 {\n",
       "  background-color: #f4eef6;\n",
       "  color: #000000;\n",
       "}\n",
       "#T_788a8_row4_col3 {\n",
       "  background-color: #d2d3e7;\n",
       "  color: #000000;\n",
       "}\n",
       "#T_788a8_row4_col5 {\n",
       "  background-color: #fdf5fa;\n",
       "  color: #000000;\n",
       "}\n",
       "#T_788a8_row5_col1 {\n",
       "  background-color: #ced0e6;\n",
       "  color: #000000;\n",
       "}\n",
       "#T_788a8_row5_col2 {\n",
       "  background-color: #ede8f3;\n",
       "  color: #000000;\n",
       "}\n",
       "#T_788a8_row5_col4, #T_788a8_row6_col7 {\n",
       "  background-color: #dbdaeb;\n",
       "  color: #000000;\n",
       "}\n",
       "#T_788a8_row5_col6 {\n",
       "  background-color: #c0c9e2;\n",
       "  color: #000000;\n",
       "}\n",
       "#T_788a8_row5_col8 {\n",
       "  background-color: #e8e4f0;\n",
       "  color: #000000;\n",
       "}\n",
       "#T_788a8_row6_col2 {\n",
       "  background-color: #93b5d6;\n",
       "  color: #000000;\n",
       "}\n",
       "#T_788a8_row6_col3, #T_788a8_row6_col5 {\n",
       "  background-color: #eae6f1;\n",
       "  color: #000000;\n",
       "}\n",
       "#T_788a8_row6_col8 {\n",
       "  background-color: #bfc9e1;\n",
       "  color: #000000;\n",
       "}\n",
       "#T_788a8_row7_col4 {\n",
       "  background-color: #c5cce3;\n",
       "  color: #000000;\n",
       "}\n",
       "#T_788a8_row7_col5 {\n",
       "  background-color: #f0eaf4;\n",
       "  color: #000000;\n",
       "}\n",
       "#T_788a8_row7_col6 {\n",
       "  background-color: #c8cde4;\n",
       "  color: #000000;\n",
       "}\n",
       "#T_788a8_row7_col8 {\n",
       "  background-color: #d6d6e9;\n",
       "  color: #000000;\n",
       "}\n",
       "#T_788a8_row8_col0 {\n",
       "  background-color: #c6cce3;\n",
       "  color: #000000;\n",
       "}\n",
       "#T_788a8_row8_col1 {\n",
       "  background-color: #cdd0e5;\n",
       "  color: #000000;\n",
       "}\n",
       "#T_788a8_row8_col2 {\n",
       "  background-color: #4c99c5;\n",
       "  color: #f1f1f1;\n",
       "}\n",
       "#T_788a8_row8_col4 {\n",
       "  background-color: #efe9f3;\n",
       "  color: #000000;\n",
       "}\n",
       "#T_788a8_row8_col5 {\n",
       "  background-color: #f7f0f7;\n",
       "  color: #000000;\n",
       "}\n",
       "#T_788a8_row8_col6 {\n",
       "  background-color: #a5bddb;\n",
       "  color: #000000;\n",
       "}\n",
       "#T_788a8_row8_col7 {\n",
       "  background-color: #d3d4e7;\n",
       "  color: #000000;\n",
       "}\n",
       "</style>\n",
       "<table id=\"T_788a8\">\n",
       "  <thead>\n",
       "    <tr>\n",
       "      <th class=\"blank level0\" >&nbsp;</th>\n",
       "      <th id=\"T_788a8_level0_col0\" class=\"col_heading level0 col0\" >track_id</th>\n",
       "      <th id=\"T_788a8_level0_col1\" class=\"col_heading level0 col1\" >acousticness</th>\n",
       "      <th id=\"T_788a8_level0_col2\" class=\"col_heading level0 col2\" >danceability</th>\n",
       "      <th id=\"T_788a8_level0_col3\" class=\"col_heading level0 col3\" >energy</th>\n",
       "      <th id=\"T_788a8_level0_col4\" class=\"col_heading level0 col4\" >instrumentalness</th>\n",
       "      <th id=\"T_788a8_level0_col5\" class=\"col_heading level0 col5\" >liveness</th>\n",
       "      <th id=\"T_788a8_level0_col6\" class=\"col_heading level0 col6\" >speechiness</th>\n",
       "      <th id=\"T_788a8_level0_col7\" class=\"col_heading level0 col7\" >tempo</th>\n",
       "      <th id=\"T_788a8_level0_col8\" class=\"col_heading level0 col8\" >valence</th>\n",
       "    </tr>\n",
       "  </thead>\n",
       "  <tbody>\n",
       "    <tr>\n",
       "      <th id=\"T_788a8_level0_row0\" class=\"row_heading level0 row0\" >track_id</th>\n",
       "      <td id=\"T_788a8_row0_col0\" class=\"data row0 col0\" >1.000000</td>\n",
       "      <td id=\"T_788a8_row0_col1\" class=\"data row0 col1\" >-0.372282</td>\n",
       "      <td id=\"T_788a8_row0_col2\" class=\"data row0 col2\" >0.049454</td>\n",
       "      <td id=\"T_788a8_row0_col3\" class=\"data row0 col3\" >0.140703</td>\n",
       "      <td id=\"T_788a8_row0_col4\" class=\"data row0 col4\" >-0.275623</td>\n",
       "      <td id=\"T_788a8_row0_col5\" class=\"data row0 col5\" >0.048231</td>\n",
       "      <td id=\"T_788a8_row0_col6\" class=\"data row0 col6\" >-0.026995</td>\n",
       "      <td id=\"T_788a8_row0_col7\" class=\"data row0 col7\" >-0.025392</td>\n",
       "      <td id=\"T_788a8_row0_col8\" class=\"data row0 col8\" >0.010070</td>\n",
       "    </tr>\n",
       "    <tr>\n",
       "      <th id=\"T_788a8_level0_row1\" class=\"row_heading level0 row1\" >acousticness</th>\n",
       "      <td id=\"T_788a8_row1_col0\" class=\"data row1 col0\" >-0.372282</td>\n",
       "      <td id=\"T_788a8_row1_col1\" class=\"data row1 col1\" >1.000000</td>\n",
       "      <td id=\"T_788a8_row1_col2\" class=\"data row1 col2\" >-0.028954</td>\n",
       "      <td id=\"T_788a8_row1_col3\" class=\"data row1 col3\" >-0.281619</td>\n",
       "      <td id=\"T_788a8_row1_col4\" class=\"data row1 col4\" >0.194780</td>\n",
       "      <td id=\"T_788a8_row1_col5\" class=\"data row1 col5\" >-0.019991</td>\n",
       "      <td id=\"T_788a8_row1_col6\" class=\"data row1 col6\" >0.072204</td>\n",
       "      <td id=\"T_788a8_row1_col7\" class=\"data row1 col7\" >-0.026310</td>\n",
       "      <td id=\"T_788a8_row1_col8\" class=\"data row1 col8\" >-0.013841</td>\n",
       "    </tr>\n",
       "    <tr>\n",
       "      <th id=\"T_788a8_level0_row2\" class=\"row_heading level0 row2\" >danceability</th>\n",
       "      <td id=\"T_788a8_row2_col0\" class=\"data row2 col0\" >0.049454</td>\n",
       "      <td id=\"T_788a8_row2_col1\" class=\"data row2 col1\" >-0.028954</td>\n",
       "      <td id=\"T_788a8_row2_col2\" class=\"data row2 col2\" >1.000000</td>\n",
       "      <td id=\"T_788a8_row2_col3\" class=\"data row2 col3\" >-0.242032</td>\n",
       "      <td id=\"T_788a8_row2_col4\" class=\"data row2 col4\" >-0.255217</td>\n",
       "      <td id=\"T_788a8_row2_col5\" class=\"data row2 col5\" >-0.106584</td>\n",
       "      <td id=\"T_788a8_row2_col6\" class=\"data row2 col6\" >0.276206</td>\n",
       "      <td id=\"T_788a8_row2_col7\" class=\"data row2 col7\" >-0.242089</td>\n",
       "      <td id=\"T_788a8_row2_col8\" class=\"data row2 col8\" >0.473165</td>\n",
       "    </tr>\n",
       "    <tr>\n",
       "      <th id=\"T_788a8_level0_row3\" class=\"row_heading level0 row3\" >energy</th>\n",
       "      <td id=\"T_788a8_row3_col0\" class=\"data row3 col0\" >0.140703</td>\n",
       "      <td id=\"T_788a8_row3_col1\" class=\"data row3 col1\" >-0.281619</td>\n",
       "      <td id=\"T_788a8_row3_col2\" class=\"data row3 col2\" >-0.242032</td>\n",
       "      <td id=\"T_788a8_row3_col3\" class=\"data row3 col3\" >1.000000</td>\n",
       "      <td id=\"T_788a8_row3_col4\" class=\"data row3 col4\" >0.028238</td>\n",
       "      <td id=\"T_788a8_row3_col5\" class=\"data row3 col5\" >0.113331</td>\n",
       "      <td id=\"T_788a8_row3_col6\" class=\"data row3 col6\" >-0.109983</td>\n",
       "      <td id=\"T_788a8_row3_col7\" class=\"data row3 col7\" >0.195227</td>\n",
       "      <td id=\"T_788a8_row3_col8\" class=\"data row3 col8\" >0.038603</td>\n",
       "    </tr>\n",
       "    <tr>\n",
       "      <th id=\"T_788a8_level0_row4\" class=\"row_heading level0 row4\" >instrumentalness</th>\n",
       "      <td id=\"T_788a8_row4_col0\" class=\"data row4 col0\" >-0.275623</td>\n",
       "      <td id=\"T_788a8_row4_col1\" class=\"data row4 col1\" >0.194780</td>\n",
       "      <td id=\"T_788a8_row4_col2\" class=\"data row4 col2\" >-0.255217</td>\n",
       "      <td id=\"T_788a8_row4_col3\" class=\"data row4 col3\" >0.028238</td>\n",
       "      <td id=\"T_788a8_row4_col4\" class=\"data row4 col4\" >1.000000</td>\n",
       "      <td id=\"T_788a8_row4_col5\" class=\"data row4 col5\" >-0.091022</td>\n",
       "      <td id=\"T_788a8_row4_col6\" class=\"data row4 col6\" >-0.366762</td>\n",
       "      <td id=\"T_788a8_row4_col7\" class=\"data row4 col7\" >0.022215</td>\n",
       "      <td id=\"T_788a8_row4_col8\" class=\"data row4 col8\" >-0.219967</td>\n",
       "    </tr>\n",
       "    <tr>\n",
       "      <th id=\"T_788a8_level0_row5\" class=\"row_heading level0 row5\" >liveness</th>\n",
       "      <td id=\"T_788a8_row5_col0\" class=\"data row5 col0\" >0.048231</td>\n",
       "      <td id=\"T_788a8_row5_col1\" class=\"data row5 col1\" >-0.019991</td>\n",
       "      <td id=\"T_788a8_row5_col2\" class=\"data row5 col2\" >-0.106584</td>\n",
       "      <td id=\"T_788a8_row5_col3\" class=\"data row5 col3\" >0.113331</td>\n",
       "      <td id=\"T_788a8_row5_col4\" class=\"data row5 col4\" >-0.091022</td>\n",
       "      <td id=\"T_788a8_row5_col5\" class=\"data row5 col5\" >1.000000</td>\n",
       "      <td id=\"T_788a8_row5_col6\" class=\"data row5 col6\" >0.041173</td>\n",
       "      <td id=\"T_788a8_row5_col7\" class=\"data row5 col7\" >0.002732</td>\n",
       "      <td id=\"T_788a8_row5_col8\" class=\"data row5 col8\" >-0.045093</td>\n",
       "    </tr>\n",
       "    <tr>\n",
       "      <th id=\"T_788a8_level0_row6\" class=\"row_heading level0 row6\" >speechiness</th>\n",
       "      <td id=\"T_788a8_row6_col0\" class=\"data row6 col0\" >-0.026995</td>\n",
       "      <td id=\"T_788a8_row6_col1\" class=\"data row6 col1\" >0.072204</td>\n",
       "      <td id=\"T_788a8_row6_col2\" class=\"data row6 col2\" >0.276206</td>\n",
       "      <td id=\"T_788a8_row6_col3\" class=\"data row6 col3\" >-0.109983</td>\n",
       "      <td id=\"T_788a8_row6_col4\" class=\"data row6 col4\" >-0.366762</td>\n",
       "      <td id=\"T_788a8_row6_col5\" class=\"data row6 col5\" >0.041173</td>\n",
       "      <td id=\"T_788a8_row6_col6\" class=\"data row6 col6\" >1.000000</td>\n",
       "      <td id=\"T_788a8_row6_col7\" class=\"data row6 col7\" >0.008241</td>\n",
       "      <td id=\"T_788a8_row6_col8\" class=\"data row6 col8\" >0.149894</td>\n",
       "    </tr>\n",
       "    <tr>\n",
       "      <th id=\"T_788a8_level0_row7\" class=\"row_heading level0 row7\" >tempo</th>\n",
       "      <td id=\"T_788a8_row7_col0\" class=\"data row7 col0\" >-0.025392</td>\n",
       "      <td id=\"T_788a8_row7_col1\" class=\"data row7 col1\" >-0.026310</td>\n",
       "      <td id=\"T_788a8_row7_col2\" class=\"data row7 col2\" >-0.242089</td>\n",
       "      <td id=\"T_788a8_row7_col3\" class=\"data row7 col3\" >0.195227</td>\n",
       "      <td id=\"T_788a8_row7_col4\" class=\"data row7 col4\" >0.022215</td>\n",
       "      <td id=\"T_788a8_row7_col5\" class=\"data row7 col5\" >0.002732</td>\n",
       "      <td id=\"T_788a8_row7_col6\" class=\"data row7 col6\" >0.008241</td>\n",
       "      <td id=\"T_788a8_row7_col7\" class=\"data row7 col7\" >1.000000</td>\n",
       "      <td id=\"T_788a8_row7_col8\" class=\"data row7 col8\" >0.052221</td>\n",
       "    </tr>\n",
       "    <tr>\n",
       "      <th id=\"T_788a8_level0_row8\" class=\"row_heading level0 row8\" >valence</th>\n",
       "      <td id=\"T_788a8_row8_col0\" class=\"data row8 col0\" >0.010070</td>\n",
       "      <td id=\"T_788a8_row8_col1\" class=\"data row8 col1\" >-0.013841</td>\n",
       "      <td id=\"T_788a8_row8_col2\" class=\"data row8 col2\" >0.473165</td>\n",
       "      <td id=\"T_788a8_row8_col3\" class=\"data row8 col3\" >0.038603</td>\n",
       "      <td id=\"T_788a8_row8_col4\" class=\"data row8 col4\" >-0.219967</td>\n",
       "      <td id=\"T_788a8_row8_col5\" class=\"data row8 col5\" >-0.045093</td>\n",
       "      <td id=\"T_788a8_row8_col6\" class=\"data row8 col6\" >0.149894</td>\n",
       "      <td id=\"T_788a8_row8_col7\" class=\"data row8 col7\" >0.052221</td>\n",
       "      <td id=\"T_788a8_row8_col8\" class=\"data row8 col8\" >1.000000</td>\n",
       "    </tr>\n",
       "  </tbody>\n",
       "</table>\n"
      ],
      "text/plain": [
       "<pandas.io.formats.style.Styler at 0x24b6e6411f0>"
      ]
     },
     "execution_count": 9,
     "metadata": {},
     "output_type": "execute_result"
    }
   ],
   "source": [
    "# Create a correlation matrix\n",
    "numeric_columns = echo_tracks.select_dtypes(include=['number']).columns\n",
    "numeric_data = echo_tracks[numeric_columns]\n",
    "corr_metrics = numeric_data.corr()\n",
    "corr_metrics.style.background_gradient()"
   ]
  },
  {
   "cell_type": "markdown",
   "id": "df305092",
   "metadata": {},
   "source": [
    "## 3. Splitting our data\n",
    "<p>As mentioned earlier, it can be particularly useful to simplify our models and use as few features as necessary to achieve the best result. Since we didn't find any particularly strong correlations between our features, we can now split our data into an array containing our features, and another containing the labels - the genre of the track. </p>\n"
   ]
  },
  {
   "cell_type": "code",
   "execution_count": 10,
   "id": "f5887d68",
   "metadata": {},
   "outputs": [],
   "source": [
    "from sklearn.model_selection import train_test_split\n",
    "\n",
    "# Create features\n",
    "features = echo_tracks.drop([\"track_id\", \"genre_top\"] , axis = 1)\n",
    "# Create labels\n",
    "labels = echo_tracks[\"genre_top\"]\n",
    "\n",
    "\n",
    "# Split our data\n",
    "train_features, test_features, train_labels, test_labels = train_test_split(features, labels, random_state = 10)\n",
    "\n",
    "# saving back of original train and test data \n",
    "train_features_or = train_features\n",
    "test_features_or = test_features\n",
    "train_labels_or = train_labels\n",
    "test_labels_or = test_labels"
   ]
  },
  {
   "cell_type": "code",
   "execution_count": 11,
   "id": "d5ad3a44",
   "metadata": {},
   "outputs": [
    {
     "name": "stdout",
     "output_type": "stream",
     "text": [
      "(3601, 8)\n",
      "(1201, 8)\n"
     ]
    }
   ],
   "source": [
    "print(train_features.shape)\n",
    "print(test_features.shape)"
   ]
  },
  {
   "cell_type": "markdown",
   "id": "dd4df62e",
   "metadata": {},
   "source": [
    "## 4. Normalizing the feature data\n",
    "<p>As mentioned earlier, it can be particularly useful to simplify our models and use as few features as necessary to achieve the best result. Since we didn't find any particular strong correlations between our features, we can instead use a common approach to reduce the number of features called <strong>principal component analysis (PCA)</strong>. </p>\n",
    "<p>It is possible that the variance between genres can be explained by just a few features in the dataset. PCA rotates the data along the axis of highest variance, thus allowing us to determine the relative contribution of each feature of our data towards the variance between classes. </p>\n",
    "<p>However, since PCA uses the absolute variance of a feature to rotate the data, a feature with a broader range of values will overpower and bias the algorithm relative to the other features. To avoid this, we must first normalize our train and test features. \n",
    "    \n",
    "Performing <em>standardization</em> - all features have a mean = 0 and standard deviation = 1 (the resultant is a z-score). </p>"
   ]
  },
  {
   "cell_type": "code",
   "execution_count": 12,
   "id": "69de011e",
   "metadata": {},
   "outputs": [],
   "source": [
    "from sklearn.preprocessing import StandardScaler\n",
    "\n",
    "# Scale the features and set the values to a new variable\n",
    "scaler = StandardScaler()\n",
    "\n",
    "# Scale train_features and test_features\n",
    "# scaled_features = scaler.fit_transform(features)\n",
    "scaled_train_features = scaler.fit_transform(train_features)\n",
    "scaled_test_features = scaler.fit_transform(test_features)\n"
   ]
  },
  {
   "cell_type": "markdown",
   "id": "67d77e1e",
   "metadata": {},
   "source": [
    "## 5. Principal Component Analysis on our scaled data\n",
    "<p>Now that we have preprocessed our data, we are ready to use PCA to determine by how much we can reduce the dimensionality of our data. We can use <strong>scree-plots</strong> and <strong>cumulative explained ratio plots</strong> to find the number of components to use in further analyses.</p>\n",
    "<p><b>Scree-plots display the number of components against the variance explained by each component, sorted in descending order of variance. Scree-plots help us get a better sense of which components explain a sufficient amount of variance in our data. When using scree plots, an 'elbow' (a steep drop from one data point to the next) in the plot is typically used to decide on an appropriate cutoff.</b></p>"
   ]
  },
  {
   "cell_type": "code",
   "execution_count": 13,
   "id": "e0fec310",
   "metadata": {},
   "outputs": [
    {
     "name": "stdout",
     "output_type": "stream",
     "text": [
      "[0.23895983 0.18149129 0.13648392 0.13004899 0.1124591  0.08329047\n",
      " 0.07040829 0.04685811]\n",
      "8\n"
     ]
    }
   ],
   "source": [
    "from sklearn.decomposition import PCA\n",
    "#... YOUR CODE ...\n",
    "\n",
    "# Get the explained variance ratios from PCA using all features\n",
    "pca = PCA()\n",
    "\n",
    "pca.fit(scaled_train_features)\n",
    "\n",
    "exp_variance = pca.explained_variance_ratio_\n",
    "num_components = pca.n_components_\n",
    "\n",
    "print(exp_variance)\n",
    "print(num_components)\n"
   ]
  },
  {
   "cell_type": "code",
   "execution_count": 14,
   "id": "6d9d244f",
   "metadata": {},
   "outputs": [
    {
     "data": {
      "text/plain": [
       "Text(0.5, 0, 'Principal Component #')"
      ]
     },
     "execution_count": 14,
     "metadata": {},
     "output_type": "execute_result"
    },
    {
     "data": {
      "image/png": "[encoded data removed]",
      "text/plain": [
       "<Figure size 640x480 with 1 Axes>"
      ]
     },
     "metadata": {},
     "output_type": "display_data"
    }
   ],
   "source": [
    "# plot the explained variance using a barplot\n",
    "fig, ax = plt.subplots()\n",
    "ax.bar(range(num_components), exp_variance)\n",
    "ax.set_xlabel('Principal Component #')"
   ]
  },
  {
   "cell_type": "markdown",
   "id": "f75c7be0",
   "metadata": {},
   "source": [
    "## 6. Further visualization of PCA\n",
    "<p>Unfortunately, there does not appear to be a clear elbow in this scree plot, which means it is not straightforward to find the number of intrinsic dimensions using this method. </p>\n",
    "<p>Instead, we can also look at the <strong>cumulative explained variance plot</strong> to determine how many features are required to explain, say, about 85% of the variance (cutoffs are somewhat arbitrary here, and usually decided upon by 'rules of thumb'). Once we determine the appropriate number of components, we can perform PCA with that many components, ideally reducing the dimensionality of our data.</p>"
   ]
  },
  {
   "cell_type": "code",
   "execution_count": 15,
   "id": "6503c0cf",
   "metadata": {},
   "outputs": [
    {
     "data": {
      "text/plain": [
       "<matplotlib.lines.Line2D at 0x24b6e59ca00>"
      ]
     },
     "execution_count": 15,
     "metadata": {},
     "output_type": "execute_result"
    },
    {
     "data": {
      "image/png": "[encoded data removed]",
      "text/plain": [
       "<Figure size 640x480 with 1 Axes>"
      ]
     },
     "metadata": {},
     "output_type": "display_data"
    }
   ],
   "source": [
    "# Import numpy\n",
    "import numpy as np\n",
    "\n",
    "# Calculate the cumulative explained variance\n",
    "cum_exp_variance = np.cumsum(exp_variance)\n",
    "\n",
    "# Plot the cumulative explained variance and draw a dashed line at 0.85.\n",
    "fig, ax = plt.subplots()\n",
    "ax.plot(range(8),cum_exp_variance)\n",
    "ax.axhline(y=0.85, linestyle='--')"
   ]
  },
  {
   "cell_type": "markdown",
   "id": "94c02c86",
   "metadata": {},
   "source": [
    "## 7. Projecting on to our features\n",
    "<p>We saw from the plot that 6 features (remember indexing starts at 0) can explain 85% of the variance! </p>\n",
    "<p>Therefore, we can use 6 components to perform PCA and reduce the dimensionality of our train and test features.</p>"
   ]
  },
  {
   "cell_type": "code",
   "execution_count": 16,
   "id": "2e2bf546",
   "metadata": {},
   "outputs": [
    {
     "name": "stdout",
     "output_type": "stream",
     "text": [
      "(3601, 6)\n",
      "(1201, 6)\n"
     ]
    }
   ],
   "source": [
    "n_components = 6\n",
    "\n",
    "# Perform PCA with the chosen number of components and project data onto components\n",
    "pca = PCA(n_components, random_state=10)\n",
    "\n",
    "# Fit and transform the scaled training features using pca\n",
    "train_pca = pca.fit_transform(scaled_train_features)\n",
    "\n",
    "# Fit and transform the scaled test features using pca\n",
    "test_pca = pca.transform(scaled_test_features)\n",
    "\n",
    "print(train_pca.shape)\n",
    "\n",
    "print(test_pca.shape)\n"
   ]
  },
  {
   "cell_type": "markdown",
   "id": "f171bbd9",
   "metadata": {},
   "source": [
    "## 8. Train a decision tree to classify genre\n",
    "<p>Now we can use the lower dimensional PCA projection of the data to classify songs into genres. </p>\n",
    "<p>Here, we will be using a algorithm known as a decision tree. \n",
    "Decision trees are rule-based classifiers that take in features and follow a 'tree structure' of binary decisions to ultimately classify a data point into one of two or more categories. In addition to being easy to both use and interpret, decision trees allow us to visualize the 'logic flowchart' that the model generates from the training data.</p>"
   ]
  },
  {
   "cell_type": "code",
   "execution_count": 61,
   "id": "c6c32345",
   "metadata": {},
   "outputs": [],
   "source": [
    "from sklearn.metrics import ConfusionMatrixDisplay\n",
    "from sklearn.metrics import confusion_matrix\n",
    "import matplotlib.pyplot as plt\n",
    "\n",
    "def plot_confusion_matrix(y_test, predictions, cmap_, class_labels=None):\n",
    "    cm = confusion_matrix(y_test, predictions)\n",
    "    \n",
    "    custom_cmap = plt.get_cmap(cmap_)  # Use plt.get_cmap to get the colormap\n",
    "\n",
    "    if class_labels:\n",
    "        disp = ConfusionMatrixDisplay(confusion_matrix=cm, display_labels=class_labels)\n",
    "    else:\n",
    "        disp = ConfusionMatrixDisplay(confusion_matrix=cm)\n",
    "    \n",
    "    disp.plot(cmap=custom_cmap)\n",
    "    plt.show()"
   ]
  },
  {
   "cell_type": "code",
   "execution_count": 62,
   "id": "61c5bb2e",
   "metadata": {},
   "outputs": [],
   "source": [
    "from sklearn.tree import DecisionTreeClassifier\n",
    "\n",
    "# Train our decision tree\n",
    "tree = DecisionTreeClassifier(random_state = 10)\n",
    "tree.fit(train_pca, train_labels)\n",
    "\n",
    "# Predict the labels for the test data\n",
    "pred_labels_tree = tree.predict(test_pca)\n",
    "\n"
   ]
  },
  {
   "cell_type": "code",
   "execution_count": 63,
   "id": "2031bab7",
   "metadata": {},
   "outputs": [
    {
     "name": "stdout",
     "output_type": "stream",
     "text": [
      "           Metric     Score\n",
      "0  Accuracy_Score  0.862614\n",
      "1    JaccardIndex  0.769958\n",
      "2        F1_Score  0.860636\n"
     ]
    }
   ],
   "source": [
    "# Evaluation\n",
    "\n",
    "Tree_Accuracy_Score = accuracy_score(test_labels, pred_labels_tree)\n",
    "\n",
    "Tree_JaccardIndex = jaccard_score(test_labels, pred_labels_tree, average='weighted')\n",
    "\n",
    "Tree_F1_Score = f1_score(test_labels, pred_labels_tree, average='weighted')\n",
    "\n",
    "Report_Tree = pd.DataFrame({\n",
    "    'Metric': ['Accuracy_Score', 'JaccardIndex', 'F1_Score'],\n",
    "    'Score': [Tree_Accuracy_Score, Tree_JaccardIndex, Tree_F1_Score]\n",
    "})\n",
    "\n",
    "print(Report_Tree)"
   ]
  },
  {
   "cell_type": "markdown",
   "id": "cfaeb14c",
   "metadata": {},
   "source": [
    "## 9. Compare our decision tree with other algorithms\n",
    "<p>Although our tree's performance is decent, it's a bad idea to immediately assume that it's therefore the perfect tool for this job -- there's always the possibility of other models that will perform even better! It's always a worthwhile idea to at least test a few other algorithms and find the one that's best for our data.</p>\n",
    "\n",
    "<!-- <p><strong>logistic regression</strong>. Logistic regression makes use of what's called the logistic function to calculate the odds that a given data point belongs to a given class. Once we have both models, we can compare them on a few performance metrics, such as false positive and false negative rate (or how many points are inaccurately classified). </p> -->"
   ]
  },
  {
   "cell_type": "code",
   "execution_count": 46,
   "id": "300b947c",
   "metadata": {},
   "outputs": [],
   "source": [
    "# Import LogisticRegression\n",
    "from sklearn.linear_model import LogisticRegression\n",
    "\n",
    "# Train our logisitic regression\n",
    "logreg = LogisticRegression(random_state=10)\n",
    "logreg.fit(train_pca, train_labels)\n",
    "pred_labels_logit = logreg.predict(test_pca)"
   ]
  },
  {
   "cell_type": "code",
   "execution_count": 64,
   "id": "56dd69f7",
   "metadata": {},
   "outputs": [
    {
     "name": "stdout",
     "output_type": "stream",
     "text": [
      "           Metric     Score\n",
      "0  Accuracy_Score  0.862614\n",
      "1    JaccardIndex  0.769958\n",
      "2        F1_Score  0.860636\n"
     ]
    }
   ],
   "source": [
    "# Evaluation\n",
    "\n",
    "Logreg_Accuracy_Score = accuracy_score(test_labels,pred_labels_logit)\n",
    "\n",
    "Logreg_JaccardIndex = jaccard_score(test_labels, pred_labels_logit, average='weighted')\n",
    "\n",
    "Logreg_F1_Score = f1_score(test_labels, pred_labels_logit, average='weighted')\n",
    "\n",
    "Report_logreg = pd.DataFrame({\n",
    "    'Metric': ['Accuracy_Score', 'JaccardIndex', 'F1_Score'],\n",
    "    'Score': [Logreg_Accuracy_Score, Logreg_JaccardIndex, Logreg_F1_Score]\n",
    "})\n",
    "\n",
    "print(Report_logreg)"
   ]
  },
  {
   "cell_type": "code",
   "execution_count": 72,
   "id": "940e69fa",
   "metadata": {},
   "outputs": [],
   "source": [
    "# Import KNeighborsClassifier\n",
    "from sklearn.neighbors import KNeighborsClassifier\n"
   ]
  },
  {
   "cell_type": "code",
   "execution_count": 83,
   "id": "969dea3d",
   "metadata": {},
   "outputs": [
    {
     "data": {
      "text/plain": [
       "array([0.8692756 , 0.85262281, 0.90258118, 0.89675271, 0.90008326,\n",
       "       0.89841799, 0.9009159 , 0.89841799, 0.90174854])"
      ]
     },
     "execution_count": 83,
     "metadata": {},
     "output_type": "execute_result"
    }
   ],
   "source": [
    "Ks = 10\n",
    "mean_acc = np.zeros((Ks-1))\n",
    "std_acc = np.zeros((Ks-1))\n",
    "title = \"\"\n",
    "for n in range(1,Ks):\n",
    "    \n",
    "    #Train Model and Predict  \n",
    "    neigh = KNeighborsClassifier(n_neighbors = n).fit(train_pca, train_labels)\n",
    "    pred_labels_knn=neigh.predict(test_pca)\n",
    "    mean_acc[n-1] = metrics.accuracy_score(test_labels, pred_labels_knn)\n",
    "    std_acc[n-1]=np.std(pred_labels_knn==test_labels)/np.sqrt(pred_labels_knn.shape[0])\n",
    "\n",
    "mean_acc"
   ]
  },
  {
   "cell_type": "code",
   "execution_count": 84,
   "id": "5d2a31e3",
   "metadata": {},
   "outputs": [
    {
     "data": {
      "image/png": "[encoded data removed]",
      "text/plain": [
       "<Figure size 640x480 with 1 Axes>"
      ]
     },
     "metadata": {},
     "output_type": "display_data"
    }
   ],
   "source": [
    "plt.plot(range(1,Ks),mean_acc,'g')\n",
    "plt.fill_between(range(1,Ks),mean_acc - 1 * std_acc,mean_acc + 1 * std_acc, alpha=0.10)\n",
    "plt.fill_between(range(1,Ks),mean_acc - 3 * std_acc,mean_acc + 3 * std_acc, alpha=0.10,color=\"green\")\n",
    "plt.legend(('Accuracy ', '+/- 1xstd','+/- 3xstd'))\n",
    "plt.ylabel('Accuracy ')\n",
    "plt.xlabel('Number of Neighbors (K)')\n",
    "plt.tight_layout()\n",
    "plt.show()"
   ]
  },
  {
   "cell_type": "code",
   "execution_count": 85,
   "id": "a1c5496e",
   "metadata": {},
   "outputs": [
    {
     "name": "stdout",
     "output_type": "stream",
     "text": [
      "The best accuracy was with 0.9025811823480433 with k= 3\n"
     ]
    }
   ],
   "source": [
    "print( \"The best accuracy was with\", mean_acc.max(), \"with k=\", mean_acc.argmax()+1) "
   ]
  },
  {
   "cell_type": "code",
   "execution_count": 86,
   "id": "0e7dd545",
   "metadata": {},
   "outputs": [],
   "source": [
    "k = 3\n",
    "KNN = KNeighborsClassifier(n_neighbors = k)\n",
    "KNN.fit(train_pca, train_labels)\n",
    "\n",
    "pred_labels_knn = KNN.predict(test_pca)"
   ]
  },
  {
   "cell_type": "code",
   "execution_count": 87,
   "id": "8c933c8a",
   "metadata": {},
   "outputs": [
    {
     "name": "stdout",
     "output_type": "stream",
     "text": [
      "           Metric     Score\n",
      "0  Accuracy_Score  0.902581\n",
      "1    JaccardIndex  0.825865\n",
      "2        F1_Score  0.898737\n"
     ]
    }
   ],
   "source": [
    "# Evaluation\n",
    "\n",
    "KNN_Accuracy_Score = accuracy_score(test_labels,pred_labels_knn)\n",
    "\n",
    "KNN_JaccardIndex = jaccard_score(test_labels, pred_labels_knn, average='weighted')\n",
    "\n",
    "KNN_F1_Score = f1_score(test_labels, pred_labels_knn, average='weighted')\n",
    "\n",
    "Report_knn = pd.DataFrame({\n",
    "    'Metric': ['Accuracy_Score', 'JaccardIndex', 'F1_Score'],\n",
    "    'Score': [KNN_Accuracy_Score, KNN_JaccardIndex, KNN_F1_Score]\n",
    "})\n",
    "\n",
    "print(Report_knn)"
   ]
  },
  {
   "cell_type": "code",
   "execution_count": 88,
   "id": "6150b43f",
   "metadata": {},
   "outputs": [],
   "source": [
    "from sklearn import svm\n",
    "\n",
    "SVM = svm.SVC(kernel='rbf')\n",
    "SVM.fit(train_pca, train_labels) \n",
    "\n",
    "pred_labels_svm = SVM.predict(test_pca)\n"
   ]
  },
  {
   "cell_type": "code",
   "execution_count": 89,
   "id": "2eadbf6c",
   "metadata": {},
   "outputs": [
    {
     "name": "stdout",
     "output_type": "stream",
     "text": [
      "           Metric     Score\n",
      "0  Accuracy_Score  0.903414\n",
      "1    JaccardIndex  0.823920\n",
      "2        F1_Score  0.896651\n"
     ]
    }
   ],
   "source": [
    "# Evaluation\n",
    "\n",
    "SVM_Accuracy_Score = accuracy_score(test_labels,pred_labels_svm)\n",
    "\n",
    "SVM_JaccardIndex = jaccard_score(test_labels,pred_labels_svm, average='weighted')\n",
    "\n",
    "SVM_F1_Score = f1_score(test_labels,pred_labels_svm, average='weighted')\n",
    "\n",
    "Report_SVM = pd.DataFrame({\n",
    "    'Metric': ['Accuracy_Score', 'JaccardIndex', 'F1_Score'],\n",
    "    'Score': [SVM_Accuracy_Score, SVM_JaccardIndex, SVM_F1_Score]\n",
    "})\n",
    "\n",
    "print(Report_SVM)"
   ]
  },
  {
   "cell_type": "markdown",
   "id": "268db8e4",
   "metadata": {},
   "source": [
    "### Comparision among the algorithm with evaluation metrics and visualization"
   ]
  },
  {
   "cell_type": "code",
   "execution_count": 90,
   "id": "16061b82",
   "metadata": {},
   "outputs": [
    {
     "name": "stdout",
     "output_type": "stream",
     "text": [
      "Decision Tree: \n",
      "               precision    recall  f1-score   support\n",
      "\n",
      "     Hip-Hop       0.66      0.61      0.64       235\n",
      "        Rock       0.91      0.92      0.92       966\n",
      "\n",
      "    accuracy                           0.86      1201\n",
      "   macro avg       0.78      0.77      0.78      1201\n",
      "weighted avg       0.86      0.86      0.86      1201\n",
      "\n",
      "Logistic Regression: \n",
      "               precision    recall  f1-score   support\n",
      "\n",
      "     Hip-Hop       0.78      0.53      0.63       235\n",
      "        Rock       0.89      0.96      0.93       966\n",
      "\n",
      "    accuracy                           0.88      1201\n",
      "   macro avg       0.84      0.75      0.78      1201\n",
      "weighted avg       0.87      0.88      0.87      1201\n",
      "\n",
      "K Near Neigbours : \n",
      "               precision    recall  f1-score   support\n",
      "\n",
      "     Hip-Hop       0.66      0.61      0.64       235\n",
      "        Rock       0.91      0.92      0.92       966\n",
      "\n",
      "    accuracy                           0.86      1201\n",
      "   macro avg       0.78      0.77      0.78      1201\n",
      "weighted avg       0.86      0.86      0.86      1201\n",
      "\n",
      "Support Vector Machine : \n",
      "               precision    recall  f1-score   support\n",
      "\n",
      "     Hip-Hop       0.78      0.53      0.63       235\n",
      "        Rock       0.89      0.96      0.93       966\n",
      "\n",
      "    accuracy                           0.88      1201\n",
      "   macro avg       0.84      0.75      0.78      1201\n",
      "weighted avg       0.87      0.88      0.87      1201\n",
      "\n"
     ]
    }
   ],
   "source": [
    "# Create the classification report for both models\n",
    "from sklearn.metrics import classification_report\n",
    "class_rep_tree = classification_report(test_labels, pred_labels_tree)\n",
    "class_rep_log = classification_report(test_labels, pred_labels_logit)\n",
    "class_rep_knn= classification_report(test_labels, pred_labels_knn)\n",
    "class_rep_svm = classification_report(test_labels,pred_labels_svm)\n",
    "\n",
    "print(\"Decision Tree: \\n\", class_rep_tree)\n",
    "print(\"Logistic Regression: \\n\", class_rep_log)\n",
    "print(\"K Near Neigbours : \\n\", class_rep_tree)\n",
    "print(\"Support Vector Machine : \\n\", class_rep_log)"
   ]
  },
  {
   "cell_type": "code",
   "execution_count": 116,
   "id": "5710579b",
   "metadata": {},
   "outputs": [
    {
     "name": "stdout",
     "output_type": "stream",
     "text": [
      "Decision Tree : \n"
     ]
    },
    {
     "data": {
      "image/png": "[encoded data removed]",
      "text/plain": [
       "<Figure size 640x480 with 2 Axes>"
      ]
     },
     "metadata": {},
     "output_type": "display_data"
    },
    {
     "name": "stdout",
     "output_type": "stream",
     "text": [
      "Logistic Regression : \n"
     ]
    },
    {
     "data": {
      "image/png": "[encoded data removed]",
      "text/plain": [
       "<Figure size 640x480 with 2 Axes>"
      ]
     },
     "metadata": {},
     "output_type": "display_data"
    },
    {
     "name": "stdout",
     "output_type": "stream",
     "text": [
      "K Nearest Neighbours : \n"
     ]
    },
    {
     "data": {
      "image/png": "[encoded data removed]",
      "text/plain": [
       "<Figure size 640x480 with 2 Axes>"
      ]
     },
     "metadata": {},
     "output_type": "display_data"
    },
    {
     "name": "stdout",
     "output_type": "stream",
     "text": [
      "Support Vector Machine : \n"
     ]
    },
    {
     "data": {
      "image/png": "[encoded data removed]",
      "text/plain": [
       "<Figure size 640x480 with 2 Axes>"
      ]
     },
     "metadata": {},
     "output_type": "display_data"
    }
   ],
   "source": [
    "# plotting confusion matrix\n",
    "\n",
    "print(\"Decision Tree : \")\n",
    "plot_confusion_matrix(test_labels, pred_labels_tree, 'Blues', [\"Hip-Hop\", \"Rock\"])\n",
    "print(\"Logistic Regression : \")\n",
    "plot_confusion_matrix(test_labels, pred_labels_logit, 'Greens', [\"Hip-Hop\", \"Rock\"])\n",
    "print(\"K Nearest Neighbours : \")\n",
    "plot_confusion_matrix(test_labels, pred_labels_knn, 'Oranges', [\"Hip-Hop\", \"Rock\"])\n",
    "print(\"Support Vector Machine : \")\n",
    "plot_confusion_matrix(test_labels, pred_labels_svm, 'YlGnBu', [\"Hip-Hop\", \"Rock\"])"
   ]
  },
  {
   "cell_type": "code",
   "execution_count": 117,
   "id": "68edaf1f",
   "metadata": {},
   "outputs": [
    {
     "name": "stdout",
     "output_type": "stream",
     "text": [
      "                 Model  Accuracy  Jaccard Index  F1 Score\n",
      "0  Logistic Regression  0.862614       0.769958  0.860636\n",
      "1                  KNN  0.902581       0.825865  0.898737\n",
      "2        Decision Tree  0.862614       0.769958  0.860636\n",
      "3                  SVM  0.903414       0.823920  0.896651\n"
     ]
    }
   ],
   "source": [
    "# Create DataFrames for each model's metrics\n",
    "LR_metrics = pd.DataFrame({\n",
    "    'Model': ['Logistic Regression'],\n",
    "    'Accuracy': [LR_Accuracy_Score],\n",
    "    'Jaccard Index': [LR_JaccardIndex],\n",
    "    'F1 Score': [LR_F1_Score]\n",
    "})\n",
    "\n",
    "KNN_metrics = pd.DataFrame({\n",
    "    'Model': ['KNN'],\n",
    "    'Accuracy': [KNN_Accuracy_Score],\n",
    "    'Jaccard Index': [KNN_JaccardIndex],\n",
    "    'F1 Score': [KNN_F1_Score]\n",
    "})\n",
    "\n",
    "Tree_metrics = pd.DataFrame({\n",
    "    'Model': ['Decision Tree'],\n",
    "    'Accuracy': [Tree_Accuracy_Score],\n",
    "    'Jaccard Index': [Tree_JaccardIndex],\n",
    "    'F1 Score': [Tree_F1_Score]\n",
    "})\n",
    "\n",
    "SVM_metrics = pd.DataFrame({\n",
    "    'Model': ['SVM'],\n",
    "    'Accuracy': [SVM_Accuracy_Score],\n",
    "    'Jaccard Index': [SVM_JaccardIndex],\n",
    "    'F1 Score': [SVM_F1_Score]\n",
    "})\n",
    "\n",
    "Report = pd.concat([LR_metrics, KNN_metrics, Tree_metrics, SVM_metrics], ignore_index=True)\n",
    "\n",
    "print(Report)"
   ]
  },
  {
   "cell_type": "markdown",
   "id": "81a2a03f",
   "metadata": {},
   "source": [
    "## 10. Balance our data for greater performance\n",
    "<p>All our models almost do similarly well, boasting an average precision of 87-89% each. However, looking at our classification report, we can see that rock songs are fairly well classified, but hip-hop songs are disproportionately misclassified as rock songs. </p>\n",
    "<p>Reason :  we have far more data points for the rock classification than for hip-hop, potentially skewing our model's ability to distinguish between classes. This also tells us that most of our model's accuracy is driven by its ability to classify just rock songs, which is less than ideal.</p>\n",
    "\n",
    "<p>Solution : we can weight the value of a correct classification in each class inversely to the occurrence of data points for each class. Since a correct classification for \"Rock\" is not more important than a correct classification for \"Hip-Hop\" (and vice versa), we only need to account for differences in <em>sample size</em> of our data points when weighting our classes here, and not relative importance of each class. </p>"
   ]
  },
  {
   "cell_type": "code",
   "execution_count": 118,
   "id": "2b28634a",
   "metadata": {},
   "outputs": [
    {
     "name": "stdout",
     "output_type": "stream",
     "text": [
      "genre_top\n",
      "Rock       910\n",
      "Hip-Hop    910\n",
      "Name: count, dtype: int64\n"
     ]
    }
   ],
   "source": [
    "# Subset a balanced proportion of data points\n",
    "hop_only = echo_tracks.loc[echo_tracks['genre_top'] == 'Hip-Hop']\n",
    "rock_only = echo_tracks.loc[echo_tracks['genre_top'] == 'Rock']\n",
    "\n",
    "# subset only the rock songs, and take a sample the same size as there are hip-hop songs\n",
    "rock_only = rock_only.sample(hop_only.shape[0], random_state=10)\n",
    "\n",
    "# concatenate the dataframes hop_only and rock_only\n",
    "rock_hop_bal = pd.concat([rock_only, hop_only])\n",
    "\n",
    "rock_hop_bal_counts = rock_hop_bal[\"genre_top\"].value_counts(dropna=False)\n",
    "\n",
    "# Display the counts\n",
    "print(rock_hop_bal_counts)"
   ]
  },
  {
   "cell_type": "code",
   "execution_count": 119,
   "id": "ebc0234b",
   "metadata": {},
   "outputs": [],
   "source": [
    "# The features, labels, and pca projection are created for the balanced dataframe\n",
    "features = rock_hop_bal.drop(['genre_top', 'track_id'], axis=1) \n",
    "labels = rock_hop_bal['genre_top']\n",
    "\n",
    "# Redefine the train and test set with the pca_projection from the balanced data\n",
    "train_features, test_features, train_labels, test_labels = train_test_split(\n",
    "    features, labels, random_state=10)\n",
    "\n",
    "train_pca = pca.fit_transform(scaler.fit_transform(train_features))\n",
    "test_pca = pca.transform(scaler.transform(test_features))"
   ]
  },
  {
   "cell_type": "markdown",
   "id": "19f7aea4",
   "metadata": {},
   "source": [
    "## 11. Does balancing our dataset improve model bias?\n",
    "<p>We've now balanced our dataset, but in doing so, we've removed a lot of data points that might have been crucial to training our models. Let's test to see if balancing our data improves model bias towards the \"Rock\" classification while retaining overall classification performance. </p>\n",
    "\n",
    "<p>Note that I have already reduced the size of our dataset and will go forward without applying any dimensionality reduction. In practice, we would consider dimensionality reduction more rigorously when dealing with vastly large datasets and when computation times become prohibitively large.</p>"
   ]
  },
  {
   "cell_type": "code",
   "execution_count": 120,
   "id": "b6ede1f2",
   "metadata": {},
   "outputs": [
    {
     "data": {
      "text/plain": [
       "array([0.82417582, 0.80879121, 0.85714286, 0.85714286, 0.86373626,\n",
       "       0.85934066, 0.85714286, 0.85494505, 0.85494505])"
      ]
     },
     "execution_count": 120,
     "metadata": {},
     "output_type": "execute_result"
    }
   ],
   "source": [
    "Ks = 10\n",
    "mean_acc = np.zeros((Ks-1))\n",
    "std_acc = np.zeros((Ks-1))\n",
    "title = \"\"\n",
    "for n in range(1,Ks):\n",
    "    \n",
    "    #Train Model and Predict  \n",
    "    neigh = KNeighborsClassifier(n_neighbors = n).fit(train_pca, train_labels)\n",
    "    pred_labels_knn=neigh.predict(test_pca)\n",
    "    mean_acc[n-1] = metrics.accuracy_score(test_labels, pred_labels_knn)\n",
    "    std_acc[n-1]=np.std(pred_labels_knn==test_labels)/np.sqrt(pred_labels_knn.shape[0])\n",
    "\n",
    "mean_acc"
   ]
  },
  {
   "cell_type": "code",
   "execution_count": 121,
   "id": "44a3885d",
   "metadata": {},
   "outputs": [
    {
     "data": {
      "image/png": "[encoded data removed]",
      "text/plain": [
       "<Figure size 640x480 with 1 Axes>"
      ]
     },
     "metadata": {},
     "output_type": "display_data"
    }
   ],
   "source": [
    "plt.plot(range(1,Ks),mean_acc,'g')\n",
    "plt.fill_between(range(1,Ks),mean_acc - 1 * std_acc,mean_acc + 1 * std_acc, alpha=0.10)\n",
    "plt.fill_between(range(1,Ks),mean_acc - 3 * std_acc,mean_acc + 3 * std_acc, alpha=0.10,color=\"green\")\n",
    "plt.legend(('Accuracy ', '+/- 1xstd','+/- 3xstd'))\n",
    "plt.ylabel('Accuracy ')\n",
    "plt.xlabel('Number of Neighbors (K)')\n",
    "plt.tight_layout()\n",
    "plt.show()"
   ]
  },
  {
   "cell_type": "code",
   "execution_count": 122,
   "id": "e360ded1",
   "metadata": {},
   "outputs": [
    {
     "name": "stdout",
     "output_type": "stream",
     "text": [
      "The best accuracy was with 0.8637362637362638 with k= 5\n"
     ]
    }
   ],
   "source": [
    "best_k =  mean_acc.argmax()+1\n",
    "print( \"The best accuracy was with\", mean_acc.max(), \"with k=\", best_k) "
   ]
  },
  {
   "cell_type": "code",
   "execution_count": 123,
   "id": "11f627d2",
   "metadata": {},
   "outputs": [
    {
     "name": "stdout",
     "output_type": "stream",
     "text": [
      "Decision Tree: \n",
      "               precision    recall  f1-score   support\n",
      "\n",
      "     Hip-Hop       0.82      0.77      0.79       230\n",
      "        Rock       0.78      0.82      0.80       225\n",
      "\n",
      "    accuracy                           0.80       455\n",
      "   macro avg       0.80      0.80      0.80       455\n",
      "weighted avg       0.80      0.80      0.80       455\n",
      "\n",
      "Logistic Regression: \n",
      "               precision    recall  f1-score   support\n",
      "\n",
      "     Hip-Hop       0.84      0.80      0.82       230\n",
      "        Rock       0.81      0.85      0.83       225\n",
      "\n",
      "    accuracy                           0.82       455\n",
      "   macro avg       0.82      0.82      0.82       455\n",
      "weighted avg       0.83      0.82      0.82       455\n",
      "\n",
      "K Nearest Neigbours : \n",
      "               precision    recall  f1-score   support\n",
      "\n",
      "     Hip-Hop       0.90      0.82      0.86       230\n",
      "        Rock       0.83      0.91      0.87       225\n",
      "\n",
      "    accuracy                           0.86       455\n",
      "   macro avg       0.87      0.86      0.86       455\n",
      "weighted avg       0.87      0.86      0.86       455\n",
      "\n",
      "Support Vector Machine : \n",
      "               precision    recall  f1-score   support\n",
      "\n",
      "     Hip-Hop       0.88      0.83      0.86       230\n",
      "        Rock       0.84      0.88      0.86       225\n",
      "\n",
      "    accuracy                           0.86       455\n",
      "   macro avg       0.86      0.86      0.86       455\n",
      "weighted avg       0.86      0.86      0.86       455\n",
      "\n"
     ]
    }
   ],
   "source": [
    "# Train our decision tree on the balanced data\n",
    "tree = DecisionTreeClassifier(random_state=10)\n",
    "tree.fit(train_pca, train_labels)\n",
    "pred_labels_tree = tree.predict(test_pca)\n",
    "\n",
    "# Evaluation\n",
    "Tree_Accuracy_Score = accuracy_score(test_labels, pred_labels_tree)\n",
    "Tree_JaccardIndex = jaccard_score(test_labels, pred_labels_tree, average='weighted')\n",
    "Tree_F1_Score = f1_score(test_labels, pred_labels_tree, average='weighted')\n",
    "\n",
    "# Train our logistic regression on the balanced data\n",
    "logreg = LogisticRegression(random_state=10)\n",
    "logreg.fit(train_pca, train_labels)\n",
    "pred_labels_logit = logreg.predict(test_pca)\n",
    "\n",
    "# Evaluation\n",
    "Logreg_Accuracy_Score = accuracy_score(test_labels,pred_labels_logit)\n",
    "Logreg_JaccardIndex = jaccard_score(test_labels, pred_labels_logit, average='weighted')\n",
    "Logreg_F1_Score = f1_score(test_labels, pred_labels_logit, average='weighted')\n",
    "\n",
    "# Train our KNN on the balanced data taking n_neigbous value as 5\n",
    "KNN = KNeighborsClassifier(n_neighbors = best_k)\n",
    "KNN.fit(train_pca, train_labels)\n",
    "pred_labels_knn = KNN.predict(test_pca)\n",
    "\n",
    "# Evaluation\n",
    "KNN_Accuracy_Score = accuracy_score(test_labels,pred_labels_knn)\n",
    "KNN_JaccardIndex = jaccard_score(test_labels, pred_labels_knn, average='weighted')\n",
    "KNN_F1_Score = f1_score(test_labels, pred_labels_knn, average='weighted')\n",
    "\n",
    "SVM = svm.SVC(kernel='rbf')\n",
    "SVM.fit(train_pca, train_labels) \n",
    "pred_labels_svm = SVM.predict(test_pca)\n",
    "\n",
    "# Evaluation\n",
    "SVM_Accuracy_Score = accuracy_score(test_labels,pred_labels_svm)\n",
    "SVM_JaccardIndex = jaccard_score(test_labels,pred_labels_svm, average='weighted')\n",
    "SVM_F1_Score = f1_score(test_labels,pred_labels_svm, average='weighted')\n",
    "\n",
    "# compare the models\n",
    "print(\"Decision Tree: \\n\", classification_report(test_labels, pred_labels_tree))\n",
    "print(\"Logistic Regression: \\n\", classification_report(test_labels, pred_labels_logit))\n",
    "print(\"K Nearest Neigbours : \\n\", classification_report(test_labels, pred_labels_knn))\n",
    "print(\"Support Vector Machine : \\n\", classification_report(test_labels,pred_labels_svm))"
   ]
  },
  {
   "cell_type": "markdown",
   "id": "8356ea80",
   "metadata": {},
   "source": [
    "## 12. Using cross-validation to evaluate our models\n",
    "<p>Success! Balancing our data has removed bias towards the more prevalent class. To get a good sense of how well our models are actually performing, we can apply what's called <strong>cross-validation</strong> (CV). This step allows us to compare models in a more rigorous fashion.</p>\n",
    "<p>Before we can perform cross-validation we will need to create pipelines to scale our data, perform PCA, and instantiate our model of choice - <code>DecisionTreeClassifier</code> or <code>LogisticRegression</code>.</p>"
   ]
  },
  {
   "cell_type": "code",
   "execution_count": 126,
   "id": "7ae657b2",
   "metadata": {},
   "outputs": [
    {
     "name": "stdout",
     "output_type": "stream",
     "text": [
      "Decision Tree Cross-Validation Accuracy: 0.8309022038567493\n",
      "Logistic Regression Cross-Validation Accuracy: 0.8717424242424242\n",
      "K Nearest Neighbors Cross-Validation Accuracy: 0.8850619834710743\n",
      "Support Vector Machine Cross-Validation Accuracy: 0.8933815426997246\n"
     ]
    }
   ],
   "source": [
    "from sklearn.model_selection import KFold, cross_val_score\n",
    "from sklearn.pipeline import Pipeline\n",
    "\n",
    "tree_pipe = Pipeline([(\"scaler\", StandardScaler()), (\"pca\", PCA(n_components=6)), \n",
    "                      (\"tree\", DecisionTreeClassifier(random_state=10))])\n",
    "logreg_pipe = Pipeline([(\"scaler\", StandardScaler()), (\"pca\", PCA(n_components=6)), \n",
    "                        (\"logreg\", LogisticRegression(random_state=10))])\n",
    "knn_pipe = Pipeline([(\"scaler\", StandardScaler()), (\"pca\", PCA(n_components=6)), \n",
    "                     (\"knn\", KNeighborsClassifier(n_neighbors=best_k))])\n",
    "svm_pipe = Pipeline([(\"scaler\", StandardScaler()), (\"pca\", PCA(n_components=6)), \n",
    "                     (\"svm\", svm.SVC(kernel='rbf'))])\n",
    "\n",
    "# Set up our K-fold cross-validation\n",
    "cv = KFold(n_splits=10, random_state=1, shuffle=True)\n",
    "\n",
    "# Train our models using KFold cv\n",
    "tree_score = cross_val_score(tree_pipe, test_features_or , test_labels_or, scoring='accuracy', cv=cv, n_jobs=-1)\n",
    "logit_score = cross_val_score(logreg_pipe, test_features_or , test_labels_or, scoring='accuracy', cv=cv, n_jobs=-1)\n",
    "knn_score = cross_val_score(knn_pipe, test_features_or, test_labels_or, scoring='accuracy', cv=cv, n_jobs=-1)\n",
    "svm_score = cross_val_score(svm_pipe, test_features_or, test_labels_or, scoring='accuracy', cv=cv, n_jobs=-1)\n",
    "\n",
    "# Print the mean of each array of scores\n",
    "print(\"Decision Tree Cross-Validation Accuracy:\", np.mean(tree_score))\n",
    "print(\"Logistic Regression Cross-Validation Accuracy:\", np.mean(logit_score))\n",
    "print(\"K Nearest Neighbors Cross-Validation Accuracy:\", np.mean(knn_score))\n",
    "print(\"Support Vector Machine Cross-Validation Accuracy:\", np.mean(svm_score))"
   ]
  },
  {
   "cell_type": "code",
   "execution_count": 129,
   "id": "4ede58af",
   "metadata": {},
   "outputs": [
    {
     "name": "stdout",
     "output_type": "stream",
     "text": [
      "                 Model  Accuracy  Jaccard Index  F1 Score\n",
      "0  Logistic Regression  0.862614       0.769958  0.860636\n",
      "1                  KNN  0.902581       0.825865  0.898737\n",
      "2        Decision Tree  0.862614       0.769958  0.860636\n",
      "3                  SVM  0.903414       0.823920  0.896651\n"
     ]
    }
   ],
   "source": [
    "# Create DataFrames for each model's metrics\n",
    "LR_metrics = pd.DataFrame({\n",
    "    'Model': ['Logistic Regression'],\n",
    "    'Accuracy': [LR_Accuracy_Score],\n",
    "    'Jaccard Index': [LR_JaccardIndex],\n",
    "    'F1 Score': [LR_F1_Score]\n",
    "})\n",
    "\n",
    "KNN_metrics = pd.DataFrame({\n",
    "    'Model': ['KNN'],\n",
    "    'Accuracy': [KNN_Accuracy_Score],\n",
    "    'Jaccard Index': [KNN_JaccardIndex],\n",
    "    'F1 Score': [KNN_F1_Score]\n",
    "})\n",
    "\n",
    "Tree_metrics = pd.DataFrame({\n",
    "    'Model': ['Decision Tree'],\n",
    "    'Accuracy': [Tree_Accuracy_Score],\n",
    "    'Jaccard Index': [Tree_JaccardIndex],\n",
    "    'F1 Score': [Tree_F1_Score]\n",
    "})\n",
    "\n",
    "SVM_metrics = pd.DataFrame({\n",
    "    'Model': ['SVM'],\n",
    "    'Accuracy': [SVM_Accuracy_Score],\n",
    "    'Jaccard Index': [SVM_JaccardIndex],\n",
    "    'F1 Score': [SVM_F1_Score]\n",
    "})\n",
    "\n",
    "Report = pd.concat([LR_metrics, KNN_metrics, Tree_metrics, SVM_metrics], ignore_index=True)\n",
    "\n",
    "print(Report)"
   ]
  },
  {
   "cell_type": "markdown",
   "id": "f05179ca",
   "metadata": {},
   "source": [
    "## 13.  Evaluating all the algorithms using confusion matrix"
   ]
  },
  {
   "cell_type": "code",
   "execution_count": 128,
   "id": "fc6b7aed",
   "metadata": {},
   "outputs": [
    {
     "name": "stdout",
     "output_type": "stream",
     "text": [
      "Decision Tree : \n"
     ]
    },
    {
     "data": {
      "image/png": "[encoded data removed]",
      "text/plain": [
       "<Figure size 640x480 with 2 Axes>"
      ]
     },
     "metadata": {},
     "output_type": "display_data"
    },
    {
     "name": "stdout",
     "output_type": "stream",
     "text": [
      "Logistic Regression : \n"
     ]
    },
    {
     "data": {
      "image/png": "[encoded data removed]",
      "text/plain": [
       "<Figure size 640x480 with 2 Axes>"
      ]
     },
     "metadata": {},
     "output_type": "display_data"
    },
    {
     "name": "stdout",
     "output_type": "stream",
     "text": [
      "K Nearest Neighbours : \n"
     ]
    },
    {
     "data": {
      "image/png": "[encoded data removed]",
      "text/plain": [
       "<Figure size 640x480 with 2 Axes>"
      ]
     },
     "metadata": {},
     "output_type": "display_data"
    },
    {
     "name": "stdout",
     "output_type": "stream",
     "text": [
      "Support Vector Machine : \n"
     ]
    },
    {
     "data": {
      "image/png": "[encoded data removed]",
      "text/plain": [
       "<Figure size 640x480 with 2 Axes>"
      ]
     },
     "metadata": {},
     "output_type": "display_data"
    }
   ],
   "source": [
    "print(\"Decision Tree : \")\n",
    "plot_confusion_matrix(test_labels, pred_labels_tree, 'Blues', [\"Hip-Hop\", \"Rock\"])\n",
    "print(\"Logistic Regression : \")\n",
    "plot_confusion_matrix(test_labels, pred_labels_logit, 'Greens', [\"Hip-Hop\", \"Rock\"])\n",
    "print(\"K Nearest Neighbours : \")\n",
    "plot_confusion_matrix(test_labels, pred_labels_knn, 'Oranges', [\"Hip-Hop\", \"Rock\"])\n",
    "print(\"Support Vector Machine : \")\n",
    "plot_confusion_matrix(test_labels, pred_labels_svm, 'YlGnBu', [\"Hip-Hop\", \"Rock\"])"
   ]
  },
  {
   "cell_type": "code",
   "execution_count": 130,
   "id": "7b656d6f",
   "metadata": {},
   "outputs": [
    {
     "name": "stderr",
     "output_type": "stream",
     "text": [
      "C:\\Users\\KIIT\\anaconda3\\envs\\songClassification\\lib\\site-packages\\sklearn\\metrics\\_ranking.py:1133: UndefinedMetricWarning: No positive samples in y_true, true positive value should be meaningless\n",
      "  warnings.warn(\n",
      "C:\\Users\\KIIT\\anaconda3\\envs\\songClassification\\lib\\site-packages\\sklearn\\metrics\\_ranking.py:1133: UndefinedMetricWarning: No positive samples in y_true, true positive value should be meaningless\n",
      "  warnings.warn(\n",
      "C:\\Users\\KIIT\\anaconda3\\envs\\songClassification\\lib\\site-packages\\sklearn\\metrics\\_ranking.py:1133: UndefinedMetricWarning: No positive samples in y_true, true positive value should be meaningless\n",
      "  warnings.warn(\n"
     ]
    },
    {
     "ename": "IndexError",
     "evalue": "index 3 is out of bounds for axis 1 with size 3",
     "output_type": "error",
     "traceback": [
      "\u001b[1;31m---------------------------------------------------------------------------\u001b[0m",
      "\u001b[1;31mIndexError\u001b[0m                                Traceback (most recent call last)",
      "Cell \u001b[1;32mIn[130], line 31\u001b[0m\n\u001b[0;32m     28\u001b[0m plt\u001b[38;5;241m.\u001b[39mplot(fpr, tpr, label\u001b[38;5;241m=\u001b[39m\u001b[38;5;124mf\u001b[39m\u001b[38;5;124m'\u001b[39m\u001b[38;5;124mKNN (AUC = \u001b[39m\u001b[38;5;132;01m{\u001b[39;00mroc_auc\u001b[38;5;132;01m:\u001b[39;00m\u001b[38;5;124m.2f\u001b[39m\u001b[38;5;132;01m}\u001b[39;00m\u001b[38;5;124m)\u001b[39m\u001b[38;5;124m'\u001b[39m)\n\u001b[0;32m     30\u001b[0m \u001b[38;5;66;03m# Support Vector Machine\u001b[39;00m\n\u001b[1;32m---> 31\u001b[0m fpr, tpr, _ \u001b[38;5;241m=\u001b[39m roc_curve(\u001b[43my_test_bin\u001b[49m\u001b[43m[\u001b[49m\u001b[43m:\u001b[49m\u001b[43m,\u001b[49m\u001b[43m \u001b[49m\u001b[38;5;241;43m3\u001b[39;49m\u001b[43m]\u001b[49m, pred_labels_svm \u001b[38;5;241m==\u001b[39m \u001b[38;5;241m3\u001b[39m)\n\u001b[0;32m     32\u001b[0m roc_auc \u001b[38;5;241m=\u001b[39m auc(fpr, tpr)\n\u001b[0;32m     33\u001b[0m plt\u001b[38;5;241m.\u001b[39mplot(fpr, tpr, label\u001b[38;5;241m=\u001b[39m\u001b[38;5;124mf\u001b[39m\u001b[38;5;124m'\u001b[39m\u001b[38;5;124mSVM (AUC = \u001b[39m\u001b[38;5;132;01m{\u001b[39;00mroc_auc\u001b[38;5;132;01m:\u001b[39;00m\u001b[38;5;124m.2f\u001b[39m\u001b[38;5;132;01m}\u001b[39;00m\u001b[38;5;124m)\u001b[39m\u001b[38;5;124m'\u001b[39m)\n",
      "\u001b[1;31mIndexError\u001b[0m: index 3 is out of bounds for axis 1 with size 3"
     ]
    },
    {
     "data": {
      "image/png": "[encoded data removed]",
      "text/plain": [
       "<Figure size 1200x600 with 1 Axes>"
      ]
     },
     "metadata": {},
     "output_type": "display_data"
    }
   ],
   "source": [
    "from sklearn.metrics import roc_curve, auc, precision_recall_curve, average_precision_score\n",
    "from sklearn.preprocessing import label_binarize\n",
    "from sklearn.multiclass import OneVsRestClassifier\n",
    "\n",
    "# Assuming you have your models and predictions available\n",
    "# tree, logreg, knn, svm\n",
    "# pred_labels_tree, pred_labels_logit, pred_labels_knn, pred_labels_svm\n",
    "\n",
    "# Binarize the labels for multiclass classification\n",
    "y_test_bin = label_binarize(test_labels, classes=[0, 1, 2])  # Adjust the classes based on your actual labels\n",
    "\n",
    "# Plot ROC curves\n",
    "plt.figure(figsize=(12, 6))\n",
    "\n",
    "# Decision Tree\n",
    "fpr, tpr, _ = roc_curve(y_test_bin[:, 0], pred_labels_tree == 0)\n",
    "roc_auc = auc(fpr, tpr)\n",
    "plt.plot(fpr, tpr, label=f'Decision Tree (AUC = {roc_auc:.2f})')\n",
    "\n",
    "# Logistic Regression\n",
    "fpr, tpr, _ = roc_curve(y_test_bin[:, 1], pred_labels_logit == 1)\n",
    "roc_auc = auc(fpr, tpr)\n",
    "plt.plot(fpr, tpr, label=f'Logistic Regression (AUC = {roc_auc:.2f})')\n",
    "\n",
    "# K Nearest Neighbors\n",
    "fpr, tpr, _ = roc_curve(y_test_bin[:, 2], pred_labels_knn == 2)\n",
    "roc_auc = auc(fpr, tpr)\n",
    "plt.plot(fpr, tpr, label=f'KNN (AUC = {roc_auc:.2f})')\n",
    "\n",
    "# Support Vector Machine\n",
    "fpr, tpr, _ = roc_curve(y_test_bin[:, 3], pred_labels_svm == 3)\n",
    "roc_auc = auc(fpr, tpr)\n",
    "plt.plot(fpr, tpr, label=f'SVM (AUC = {roc_auc:.2f})')\n",
    "\n",
    "plt.title('ROC Curves')\n",
    "plt.xlabel('False Positive Rate')\n",
    "plt.ylabel('True Positive Rate')\n",
    "plt.legend()\n",
    "plt.show()\n",
    "\n",
    "# Plot Precision-Recall curves\n",
    "plt.figure(figsize=(12, 6))\n",
    "\n",
    "# Decision Tree\n",
    "precision, recall, _ = precision_recall_curve(y_test_bin[:, 0], pred_labels_tree == 0)\n",
    "avg_precision = average_precision_score(y_test_bin[:, 0], pred_labels_tree == 0)\n",
    "plt.plot(recall, precision, label=f'Decision Tree (Avg Precision = {avg_precision:.2f})')\n",
    "\n",
    "# Logistic Regression\n",
    "precision, recall, _ = precision_recall_curve(y_test_bin[:, 1], pred_labels_logit == 1)\n",
    "avg_precision = average_precision_score(y_test_bin[:, 1], pred_labels_logit == 1)\n",
    "plt.plot(recall, precision, label=f'Logistic Regression (Avg Precision = {avg_precision:.2f})')\n",
    "\n",
    "# K Nearest Neighbors\n",
    "precision, recall, _ = precision_recall_curve(y_test_bin[:, 2], pred_labels_knn == 2)\n",
    "avg_precision = average_precision_score(y_test_bin[:, 2], pred_labels_knn == 2)\n",
    "plt.plot(recall, precision, label=f'KNN (Avg Precision = {avg_precision:.2f})')\n",
    "\n",
    "# Support Vector Machine\n",
    "precision, recall, _ = precision_recall_curve(y_test_bin[:, 3], pred_labels_svm == 3)\n",
    "avg_precision = average_precision_score(y_test_bin[:, 3], pred_labels_svm == 3)\n",
    "plt.plot(recall, precision, label=f'SVM (Avg Precision = {avg_precision:.2f})')\n",
    "\n",
    "plt.title('Precision-Recall Curves')\n",
    "plt.xlabel('Recall')\n",
    "plt.ylabel('Precision')\n",
    "plt.legend()\n",
    "plt.show()\n"
   ]
  },
  {
   "cell_type": "markdown",
   "id": "6c49f49f",
   "metadata": {},
   "source": [
    "### Successully able to classify songs as Rock or Hip-Hop using the audio data features with an accuracy of 87.17% using Support Vector Machine as the best algorithm"
   ]
  },
  {
   "cell_type": "code",
   "execution_count": null,
   "id": "c2665f38",
   "metadata": {},
   "outputs": [],
   "source": []
  }
 ],
 "metadata": {
  "kernelspec": {
   "display_name": "Python 3 (ipykernel)",
   "language": "python",
   "name": "python3"
  },
  "language_info": {
   "codemirror_mode": {
    "name": "ipython",
    "version": 3
   },
   "file_extension": ".py",
   "mimetype": "text/x-python",
   "name": "python",
   "nbconvert_exporter": "python",
   "pygments_lexer": "ipython3",
   "version": "3.9.18"
  }
 },
 "nbformat": 4,
 "nbformat_minor": 5
}
